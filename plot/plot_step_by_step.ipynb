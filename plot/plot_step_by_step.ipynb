{
 "cells": [
  {
   "cell_type": "markdown",
   "metadata": {},
   "source": [
    "# Import"
   ]
  },
  {
   "cell_type": "code",
   "execution_count": 1,
   "metadata": {},
   "outputs": [],
   "source": [
    "import numpy as np\n",
    "import matplotlib.pyplot as plt"
   ]
  },
  {
   "cell_type": "markdown",
   "metadata": {},
   "source": [
    "# Run"
   ]
  },
  {
   "cell_type": "code",
   "execution_count": 2,
   "metadata": {},
   "outputs": [],
   "source": [
    "result = !python main.py @config/defaults.txt"
   ]
  },
  {
   "cell_type": "markdown",
   "metadata": {},
   "source": [
    "# Parse output"
   ]
  },
  {
   "cell_type": "code",
   "execution_count": 3,
   "metadata": {},
   "outputs": [],
   "source": [
    "result = result[1:]\n",
    "\n",
    "iter_result = result[:-1]\n",
    "final_result = result[-1]\n",
    "\n",
    "# N = int(final_result.split(',')[17])\n",
    "\n",
    "iter_result = [l.split('   ') for l in iter_result]\n",
    "\n",
    "neighbor_fitness = np.array([float(l[3]) for l in iter_result])\n",
    "current_fitness = np.array([float(l[4]) for l in iter_result])\n",
    "best_fitness = np.array([float(l[5]) for l in iter_result])\n",
    "temp = np.array([float(l[6]) for l in iter_result])"
   ]
  },
  {
   "cell_type": "markdown",
   "metadata": {},
   "source": [
    "# Compute probability over time"
   ]
  },
  {
   "cell_type": "code",
   "execution_count": 4,
   "metadata": {},
   "outputs": [],
   "source": [
    "prob = np.exp((neighbor_fitness - current_fitness) / temp)\n",
    "prob = np.where(prob >= 1, 0, prob)"
   ]
  },
  {
   "cell_type": "code",
   "execution_count": 5,
   "metadata": {},
   "outputs": [
    {
     "name": "stdout",
     "output_type": "stream",
     "text": [
      "92102\n",
      "92102\n"
     ]
    }
   ],
   "source": [
    "print(neighbor_fitness.size)\n",
    "print(current_fitness.size)"
   ]
  },
  {
   "cell_type": "code",
   "execution_count": 6,
   "metadata": {},
   "outputs": [],
   "source": [
    "import pandas as pd"
   ]
  },
  {
   "cell_type": "code",
   "execution_count": 7,
   "metadata": {},
   "outputs": [
    {
     "data": {
      "text/html": [
       "<div>\n",
       "<style scoped>\n",
       "    .dataframe tbody tr th:only-of-type {\n",
       "        vertical-align: middle;\n",
       "    }\n",
       "\n",
       "    .dataframe tbody tr th {\n",
       "        vertical-align: top;\n",
       "    }\n",
       "\n",
       "    .dataframe thead th {\n",
       "        text-align: right;\n",
       "    }\n",
       "</style>\n",
       "<table border=\"1\" class=\"dataframe\">\n",
       "  <thead>\n",
       "    <tr style=\"text-align: right;\">\n",
       "      <th></th>\n",
       "      <th>0</th>\n",
       "      <th>1</th>\n",
       "      <th>2</th>\n",
       "      <th>3</th>\n",
       "    </tr>\n",
       "  </thead>\n",
       "  <tbody>\n",
       "    <tr>\n",
       "      <th>0</th>\n",
       "      <td>-0.003</td>\n",
       "      <td>0.027666</td>\n",
       "      <td>-0.108437</td>\n",
       "      <td>0.897235</td>\n",
       "    </tr>\n",
       "    <tr>\n",
       "      <th>1</th>\n",
       "      <td>-0.007</td>\n",
       "      <td>0.027664</td>\n",
       "      <td>-0.253033</td>\n",
       "      <td>0.776442</td>\n",
       "    </tr>\n",
       "    <tr>\n",
       "      <th>2</th>\n",
       "      <td>0.000</td>\n",
       "      <td>0.027663</td>\n",
       "      <td>0.000000</td>\n",
       "      <td>0.000000</td>\n",
       "    </tr>\n",
       "    <tr>\n",
       "      <th>3</th>\n",
       "      <td>0.007</td>\n",
       "      <td>0.027662</td>\n",
       "      <td>0.253058</td>\n",
       "      <td>0.000000</td>\n",
       "    </tr>\n",
       "    <tr>\n",
       "      <th>4</th>\n",
       "      <td>-0.010</td>\n",
       "      <td>0.027660</td>\n",
       "      <td>-0.361530</td>\n",
       "      <td>0.696610</td>\n",
       "    </tr>\n",
       "    <tr>\n",
       "      <th>5</th>\n",
       "      <td>-0.003</td>\n",
       "      <td>0.027659</td>\n",
       "      <td>-0.108464</td>\n",
       "      <td>0.897211</td>\n",
       "    </tr>\n",
       "    <tr>\n",
       "      <th>6</th>\n",
       "      <td>-0.014</td>\n",
       "      <td>0.027657</td>\n",
       "      <td>-0.506193</td>\n",
       "      <td>0.602786</td>\n",
       "    </tr>\n",
       "    <tr>\n",
       "      <th>7</th>\n",
       "      <td>0.000</td>\n",
       "      <td>0.027656</td>\n",
       "      <td>0.000000</td>\n",
       "      <td>0.000000</td>\n",
       "    </tr>\n",
       "    <tr>\n",
       "      <th>8</th>\n",
       "      <td>0.000</td>\n",
       "      <td>0.027655</td>\n",
       "      <td>0.000000</td>\n",
       "      <td>0.000000</td>\n",
       "    </tr>\n",
       "    <tr>\n",
       "      <th>9</th>\n",
       "      <td>-0.026</td>\n",
       "      <td>0.027653</td>\n",
       "      <td>-0.940213</td>\n",
       "      <td>0.390545</td>\n",
       "    </tr>\n",
       "  </tbody>\n",
       "</table>\n",
       "</div>"
      ],
      "text/plain": [
       "       0         1         2         3\n",
       "0 -0.003  0.027666 -0.108437  0.897235\n",
       "1 -0.007  0.027664 -0.253033  0.776442\n",
       "2  0.000  0.027663  0.000000  0.000000\n",
       "3  0.007  0.027662  0.253058  0.000000\n",
       "4 -0.010  0.027660 -0.361530  0.696610\n",
       "5 -0.003  0.027659 -0.108464  0.897211\n",
       "6 -0.014  0.027657 -0.506193  0.602786\n",
       "7  0.000  0.027656  0.000000  0.000000\n",
       "8  0.000  0.027655  0.000000  0.000000\n",
       "9 -0.026  0.027653 -0.940213  0.390545"
      ]
     },
     "execution_count": 7,
     "metadata": {},
     "output_type": "execute_result"
    }
   ],
   "source": [
    "pd.DataFrame(np.array([(neighbor_fitness - current_fitness)[1620:1630], temp[1620:1630], ((neighbor_fitness - current_fitness) / temp)[1620:1630], prob[1620:1630]]).transpose())"
   ]
  },
  {
   "cell_type": "markdown",
   "metadata": {},
   "source": [
    "# Plot"
   ]
  },
  {
   "cell_type": "code",
   "execution_count": 8,
   "metadata": {},
   "outputs": [
    {
     "data": {
      "text/plain": [
       "[<matplotlib.lines.Line2D at 0x7fb4f6efe290>]"
      ]
     },
     "execution_count": 8,
     "metadata": {},
     "output_type": "execute_result"
    },
    {
     "data": {
      "image/png": "[encoded data removed]",
      "text/plain": [
       "<Figure size 640x480 with 2 Axes>"
      ]
     },
     "metadata": {},
     "output_type": "display_data"
    }
   ],
   "source": [
    "window = range(0,len(neighbor_fitness))\n",
    "# window = range(40000,len(neighbor_fitness))\n",
    "# window = range(1600,1700)\n",
    "\n",
    "ax1 = plt.subplot(211)\n",
    "ax1.plot(neighbor_fitness[window], label=\"neighbor\")\n",
    "ax1.plot(current_fitness[window], label=\"current\")\n",
    "ax1.plot(best_fitness[window], label=\"best\")\n",
    "ax1.legend()\n",
    "\n",
    "ax2 = plt.subplot(212, sharex=ax1)\n",
    "ax2.plot(prob[window])\n",
    "\n",
    "# ax2 = plt.subplot(313, sharex=ax1)\n",
    "# ax2.plot((neighbor_fitness - current_fitness)[window])"
   ]
  },
  {
   "cell_type": "code",
   "execution_count": 9,
   "metadata": {},
   "outputs": [
    {
     "data": {
      "text/plain": [
       "'126.12944152000001,0.9866666666666667,0.9107735470941883,0.8265898466092637,16139,4086471384,1941796842,3116531552,4290614988,1930468394,1486423214,3632295947,4083022719,500,500,15,1,1,300,0.0,SA,SRMP,SRMP,None,None,None,None,None,0.03,0.99995,1,0.0003,None,None,None,16139,None,None,None,None,None,None'"
      ]
     },
     "execution_count": 9,
     "metadata": {},
     "output_type": "execute_result"
    }
   ],
   "source": [
    "result[-1]"
   ]
  }
 ],
 "metadata": {
  "kernelspec": {
   "display_name": ".venv",
   "language": "python",
   "name": "python3"
  },
  "language_info": {
   "codemirror_mode": {
    "name": "ipython",
    "version": 3
   },
   "file_extension": ".py",
   "mimetype": "text/x-python",
   "name": "python",
   "nbconvert_exporter": "python",
   "pygments_lexer": "ipython3",
   "version": "3.12.3"
  }
 },
 "nbformat": 4,
 "nbformat_minor": 2
}
