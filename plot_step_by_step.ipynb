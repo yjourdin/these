{
 "cells": [
  {
   "cell_type": "markdown",
   "metadata": {},
   "source": [
    "# Import"
   ]
  },
  {
   "cell_type": "code",
   "execution_count": 33,
   "metadata": {},
   "outputs": [],
   "source": [
    "import numpy as np\n",
    "import matplotlib.pyplot as plt"
   ]
  },
  {
   "cell_type": "markdown",
   "metadata": {},
   "source": [
    "# Run"
   ]
  },
  {
   "cell_type": "code",
   "execution_count": 34,
   "metadata": {},
   "outputs": [],
   "source": [
    "result = !python main.py @config/defaults.txt"
   ]
  },
  {
   "cell_type": "markdown",
   "metadata": {},
   "source": [
    "# Parse output"
   ]
  },
  {
   "cell_type": "code",
   "execution_count": 35,
   "metadata": {},
   "outputs": [],
   "source": [
    "result = result[1:]\n",
    "\n",
    "iter_result = result[:-1]\n",
    "final_result = result[-1]\n",
    "\n",
    "N = int(final_result.split(',')[17])\n",
    "\n",
    "iter_result = [l.split('   ') for l in iter_result]\n",
    "\n",
    "neighbor_fitness = np.array([float(l[3]) for l in iter_result])\n",
    "current_fitness = np.array([float(l[4]) for l in iter_result])\n",
    "best_fitness = np.array([float(l[5]) for l in iter_result])\n",
    "temp = np.array([float(l[6]) for l in iter_result])"
   ]
  },
  {
   "cell_type": "markdown",
   "metadata": {},
   "source": [
    "# Compute probability over time"
   ]
  },
  {
   "cell_type": "code",
   "execution_count": 36,
   "metadata": {},
   "outputs": [],
   "source": [
    "prob = np.exp((neighbor_fitness - current_fitness) / temp)\n",
    "prob = np.where(prob >= 1, 0, prob)"
   ]
  },
  {
   "cell_type": "code",
   "execution_count": 65,
   "metadata": {},
   "outputs": [
    {
     "name": "stdout",
     "output_type": "stream",
     "text": [
      "23025\n",
      "23025\n"
     ]
    }
   ],
   "source": [
    "print(neighbor_fitness.size)\n",
    "print(current_fitness.size)"
   ]
  },
  {
   "cell_type": "code",
   "execution_count": 49,
   "metadata": {},
   "outputs": [],
   "source": [
    "import pandas as pd"
   ]
  },
  {
   "cell_type": "code",
   "execution_count": 66,
   "metadata": {},
   "outputs": [
    {
     "data": {
      "text/html": [
       "<div>\n",
       "<style scoped>\n",
       "    .dataframe tbody tr th:only-of-type {\n",
       "        vertical-align: middle;\n",
       "    }\n",
       "\n",
       "    .dataframe tbody tr th {\n",
       "        vertical-align: top;\n",
       "    }\n",
       "\n",
       "    .dataframe thead th {\n",
       "        text-align: right;\n",
       "    }\n",
       "</style>\n",
       "<table border=\"1\" class=\"dataframe\">\n",
       "  <thead>\n",
       "    <tr style=\"text-align: right;\">\n",
       "      <th></th>\n",
       "      <th>0</th>\n",
       "      <th>1</th>\n",
       "      <th>2</th>\n",
       "      <th>3</th>\n",
       "    </tr>\n",
       "  </thead>\n",
       "  <tbody>\n",
       "    <tr>\n",
       "      <th>0</th>\n",
       "      <td>0.000</td>\n",
       "      <td>0.00085</td>\n",
       "      <td>0.000000</td>\n",
       "      <td>0.000000e+00</td>\n",
       "    </tr>\n",
       "    <tr>\n",
       "      <th>1</th>\n",
       "      <td>-0.009</td>\n",
       "      <td>0.00085</td>\n",
       "      <td>-10.583886</td>\n",
       "      <td>2.532075e-05</td>\n",
       "    </tr>\n",
       "    <tr>\n",
       "      <th>2</th>\n",
       "      <td>-0.049</td>\n",
       "      <td>0.00085</td>\n",
       "      <td>-57.629144</td>\n",
       "      <td>9.375207e-26</td>\n",
       "    </tr>\n",
       "    <tr>\n",
       "      <th>3</th>\n",
       "      <td>0.000</td>\n",
       "      <td>0.00085</td>\n",
       "      <td>0.000000</td>\n",
       "      <td>0.000000e+00</td>\n",
       "    </tr>\n",
       "    <tr>\n",
       "      <th>4</th>\n",
       "      <td>-0.001</td>\n",
       "      <td>0.00085</td>\n",
       "      <td>-1.176340</td>\n",
       "      <td>3.084054e-01</td>\n",
       "    </tr>\n",
       "    <tr>\n",
       "      <th>5</th>\n",
       "      <td>0.000</td>\n",
       "      <td>0.00085</td>\n",
       "      <td>0.000000</td>\n",
       "      <td>0.000000e+00</td>\n",
       "    </tr>\n",
       "    <tr>\n",
       "      <th>6</th>\n",
       "      <td>-0.033</td>\n",
       "      <td>0.00085</td>\n",
       "      <td>-38.826993</td>\n",
       "      <td>1.372939e-17</td>\n",
       "    </tr>\n",
       "    <tr>\n",
       "      <th>7</th>\n",
       "      <td>0.004</td>\n",
       "      <td>0.00085</td>\n",
       "      <td>4.706773</td>\n",
       "      <td>0.000000e+00</td>\n",
       "    </tr>\n",
       "    <tr>\n",
       "      <th>8</th>\n",
       "      <td>0.000</td>\n",
       "      <td>0.00085</td>\n",
       "      <td>0.000000</td>\n",
       "      <td>0.000000e+00</td>\n",
       "    </tr>\n",
       "    <tr>\n",
       "      <th>9</th>\n",
       "      <td>0.000</td>\n",
       "      <td>0.00085</td>\n",
       "      <td>0.000000</td>\n",
       "      <td>0.000000e+00</td>\n",
       "    </tr>\n",
       "  </tbody>\n",
       "</table>\n",
       "</div>"
      ],
      "text/plain": [
       "       0        1          2             3\n",
       "0  0.000  0.00085   0.000000  0.000000e+00\n",
       "1 -0.009  0.00085 -10.583886  2.532075e-05\n",
       "2 -0.049  0.00085 -57.629144  9.375207e-26\n",
       "3  0.000  0.00085   0.000000  0.000000e+00\n",
       "4 -0.001  0.00085  -1.176340  3.084054e-01\n",
       "5  0.000  0.00085   0.000000  0.000000e+00\n",
       "6 -0.033  0.00085 -38.826993  1.372939e-17\n",
       "7  0.004  0.00085   4.706773  0.000000e+00\n",
       "8  0.000  0.00085   0.000000  0.000000e+00\n",
       "9  0.000  0.00085   0.000000  0.000000e+00"
      ]
     },
     "execution_count": 66,
     "metadata": {},
     "output_type": "execute_result"
    }
   ],
   "source": [
    "pd.DataFrame(np.array([(neighbor_fitness - current_fitness)[1620:1630], temp[1620:1630], ((neighbor_fitness - current_fitness) / temp)[1620:1630], prob[1620:1630]]).transpose())"
   ]
  },
  {
   "cell_type": "markdown",
   "metadata": {},
   "source": [
    "# Plot"
   ]
  },
  {
   "cell_type": "code",
   "execution_count": 70,
   "metadata": {},
   "outputs": [
    {
     "data": {
      "text/plain": [
       "[<matplotlib.lines.Line2D at 0x7f2e245bf610>]"
      ]
     },
     "execution_count": 70,
     "metadata": {},
     "output_type": "execute_result"
    },
    {
     "data": {
      "image/png": "[encoded data removed]",
      "text/plain": [
       "<Figure size 640x480 with 2 Axes>"
      ]
     },
     "metadata": {},
     "output_type": "display_data"
    }
   ],
   "source": [
    "window = range(0,len(neighbor_fitness))\n",
    "# window = range(40000,len(neighbor_fitness))\n",
    "# window = range(1600,1700)\n",
    "\n",
    "ax1 = plt.subplot(211)\n",
    "ax1.plot(neighbor_fitness[window], label=\"neighbor\")\n",
    "ax1.plot(current_fitness[window], label=\"current\")\n",
    "ax1.plot(best_fitness[window], label=\"best\")\n",
    "ax1.legend()\n",
    "\n",
    "ax2 = plt.subplot(212, sharex=ax1)\n",
    "ax2.plot(prob[window])\n",
    "\n",
    "# ax2 = plt.subplot(313, sharex=ax1)\n",
    "# ax2.plot((neighbor_fitness - current_fitness)[window])"
   ]
  },
  {
   "cell_type": "code",
   "execution_count": 38,
   "metadata": {},
   "outputs": [
    {
     "data": {
      "text/plain": [
       "'123.86391083800001,0.992,0.98164,0.9632064128256512,0,2968811710,3677149159,745650761,2884920346,2642120001,2590541744,117660781,500,500,15,4,4,1000,SA,SRMP,None,None,None,None,None,0.001,0.9999,1,0.0001,None,None,None,0,None,None,None,None,None'"
      ]
     },
     "execution_count": 38,
     "metadata": {},
     "output_type": "execute_result"
    }
   ],
   "source": [
    "result[-1]"
   ]
  }
 ],
 "metadata": {
  "kernelspec": {
   "display_name": ".venv",
   "language": "python",
   "name": "python3"
  },
  "language_info": {
   "codemirror_mode": {
    "name": "ipython",
    "version": 3
   },
   "file_extension": ".py",
   "mimetype": "text/x-python",
   "name": "python",
   "nbconvert_exporter": "python",
   "pygments_lexer": "ipython3",
   "version": "3.10.12"
  }
 },
 "nbformat": 4,
 "nbformat_minor": 2
}
