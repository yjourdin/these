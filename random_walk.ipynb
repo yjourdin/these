{
 "cells": [
  {
   "cell_type": "markdown",
   "metadata": {},
   "source": [
    "# Preamble"
   ]
  },
  {
   "cell_type": "code",
   "execution_count": 72,
   "metadata": {},
   "outputs": [],
   "source": [
    "\n",
    "import argparse\n",
    "from dataclasses import dataclass\n",
    "from typing import Any, Literal, Sequence, TypeVar, cast\n",
    "from math import log\n",
    "\n",
    "from numpy import array, diff, mean\n",
    "from numpy.random import Generator, SeedSequence, default_rng\n",
    "\n",
    "from generate import (\n",
    "    random_alternatives,\n",
    "    random_comparisons,\n",
    "    random_rmp,\n",
    "    random_srmp,\n",
    "    balanced_rmp,\n",
    "    balanced_srmp\n",
    ")\n",
    "from mcda_local.core.performance_table import PerformanceTable\n",
    "from mcda_local.core.ranker import Ranker\n",
    "from mcda_local.core.relations import PreferenceStructure\n",
    "from mcda_local.learner.neighbor import Neighbor, RandomNeighbor\n",
    "from neighbors import (\n",
    "    NeighborCapacities,\n",
    "    NeighborLexOrder,\n",
    "    NeighborProfiles,\n",
    "    NeighborWeights,\n",
    ")\n",
    "from utils import midpoints\n",
    "\n",
    "import matplotlib.pyplot as plt\n",
    "\n",
    "T = TypeVar(\"T\", bound=Ranker)"
   ]
  },
  {
   "cell_type": "markdown",
   "metadata": {},
   "source": [
    "# Definition"
   ]
  },
  {
   "cell_type": "markdown",
   "metadata": {},
   "source": [
    "## Random walk definition"
   ]
  },
  {
   "cell_type": "code",
   "execution_count": 73,
   "metadata": {},
   "outputs": [],
   "source": [
    "class RandomWalk:\n",
    "    def __init__(\n",
    "        self,\n",
    "        train_data: PerformanceTable,\n",
    "        target: PreferenceStructure,\n",
    "    ) -> None:\n",
    "        self.train_data = train_data\n",
    "        self.target = target\n",
    "\n",
    "    def __call__(\n",
    "        self, size: int, initial_model: T, neighbor: Neighbor[T], rng: Generator\n",
    "    ) -> list[float]:\n",
    "        model = initial_model\n",
    "        result = [model.fitness(self.train_data, self.target)]\n",
    "        for i in range(size):\n",
    "            model = neighbor(model, rng)\n",
    "            result.append(model.fitness(self.train_data, self.target))\n",
    "            if i % 100 == 0:\n",
    "                print(i)\n",
    "        return result\n",
    "\n",
    "\n",
    "def temperature_initial(random_walk: list[float], prob: float) -> float:\n",
    "    energy = array(random_walk)\n",
    "    diff_energy = diff(energy)\n",
    "    diff_energy = diff_energy[diff_energy < 0]\n",
    "    diff_energy = -diff_energy\n",
    "    diff_energy_mean = float(mean(diff_energy))\n",
    "    return diff_energy_mean / (-log(prob))\n",
    "    "
   ]
  },
  {
   "cell_type": "markdown",
   "metadata": {},
   "source": [
    "## Arguments definition"
   ]
  },
  {
   "cell_type": "code",
   "execution_count": 74,
   "metadata": {},
   "outputs": [],
   "source": [
    "Model = Literal[\"RMP\", \"SRMP\"]\n",
    "\n",
    "\n",
    "@dataclass(frozen=True)\n",
    "class Arguments:\n",
    "    N: int\n",
    "    M: int\n",
    "    K: int\n",
    "    N_bc: int\n",
    "    size: int\n",
    "\n",
    "    model: Model = \"SRMP\"\n",
    "\n",
    "    seed: int | None = None\n",
    "    A_train_seed: int | None = None\n",
    "    original_model_seed: int | None = None\n",
    "    D_train_seed: int | None = None\n",
    "    init_model_seed: int | None = None\n",
    "    random_walk_seed: int | None = None\n",
    "\n",
    "    def kwargs(\n",
    "        self, args: Sequence[str], keys: list[str] | dict[str, str] | None = None\n",
    "    ) -> dict[str, Any]:\n",
    "        result: dict[str, Any] = {}\n",
    "        for i, arg in enumerate(args):\n",
    "            arg_value = getattr(self, arg)\n",
    "            if arg_value:\n",
    "                match keys:\n",
    "                    case list():\n",
    "                        key = keys[i]\n",
    "                    case dict():\n",
    "                        key = keys.get(arg, arg)\n",
    "                    case _:\n",
    "                        key = arg\n",
    "                result[key] = arg_value\n",
    "        return result\n",
    "\n",
    "\n",
    "def parse_args(args: Sequence[str] | None = None):\n",
    "    # Create argument parser\n",
    "    parser = argparse.ArgumentParser(\n",
    "        description=\"Learn a preference model.\", fromfile_prefix_chars=\"@\"\n",
    "    )\n",
    "\n",
    "    # Constant numbers\n",
    "    parser.add_argument(\n",
    "        \"--N\", type=int, required=True, help=\"Number of training alternatives\"\n",
    "    )\n",
    "    parser.add_argument(\"--M\", type=int, required=True, help=\"Number of criteria\")\n",
    "    parser.add_argument(\n",
    "        \"--K\",\n",
    "        type=int,\n",
    "        required=True,\n",
    "        help=\"Number of profiles in the original model\",\n",
    "    )\n",
    "    parser.add_argument(\n",
    "        \"--N-bc\", type=int, required=True, help=\"Number of training binary comparisons\"\n",
    "    )\n",
    "    parser.add_argument(\n",
    "        \"--size\", type=int, required=True, help=\"Size of the random walk\"\n",
    "    )\n",
    "\n",
    "    # Model to learn\n",
    "    parser.add_argument(\n",
    "        \"--model\", choices=[\"RMP\", \"SRMP\"], required=True, help=\"The model to learn\"\n",
    "    )\n",
    "\n",
    "    # Seed arguments\n",
    "    seeds_group = parser.add_argument_group(\n",
    "        \"seeds\", \"Random seeds used for reproductibility\"\n",
    "    )\n",
    "    seeds_group.add_argument(\n",
    "        \"--seed\",\n",
    "        type=int,\n",
    "        help=\"Seed for all the experiment\",\n",
    "    )\n",
    "    seeds_group.add_argument(\n",
    "        \"--A-train-seed\",\n",
    "        type=int,\n",
    "        help=\"Seed used to generate the training data set of alternatives\",\n",
    "    )\n",
    "    seeds_group.add_argument(\n",
    "        \"--original-model-seed\",\n",
    "        type=int,\n",
    "        help=\"Seed used to generate the original model\",\n",
    "    )\n",
    "    seeds_group.add_argument(\n",
    "        \"--D-train-seed\",\n",
    "        type=int,\n",
    "        help=\"Seed used to select the alternatives into the training dataset\",\n",
    "    )\n",
    "    seeds_group.add_argument(\n",
    "        \"--init-model-seed\", type=int, help=\"Seed used to generate the initial model\"\n",
    "    )\n",
    "    seeds_group.add_argument(\n",
    "        \"--random-walk-seed\", type=int, help=\"Seed used during the random walk\"\n",
    "    )\n",
    "\n",
    "    # Parse arguments\n",
    "    return Arguments(**vars(parser.parse_args(args)))"
   ]
  },
  {
   "cell_type": "markdown",
   "metadata": {},
   "source": [
    "# Initialisation"
   ]
  },
  {
   "cell_type": "markdown",
   "metadata": {},
   "source": [
    "## Arguments parsing"
   ]
  },
  {
   "cell_type": "code",
   "execution_count": 75,
   "metadata": {},
   "outputs": [],
   "source": [
    "ARGS = parse_args([\"--N\", \"500\", \"--M\", \"7\", \"--K\", \"1\", \"--N-bc\", \"100\", \"--size\", \"1000\", \"--model\", \"SRMP\", \"--seed\", \"0\"])"
   ]
  },
  {
   "cell_type": "markdown",
   "metadata": {},
   "source": [
    "## Random seeds initialisation"
   ]
  },
  {
   "cell_type": "code",
   "execution_count": 76,
   "metadata": {},
   "outputs": [],
   "source": [
    "seeds: dict[str, int] = {\"general\": cast(int, SeedSequence(ARGS.seed).entropy)}\n",
    "seeds.update(\n",
    "    zip(\n",
    "        [\"A_train\", \"original_model\", \"D_train\", \"init_model\", \"random_walk\"],\n",
    "        SeedSequence(seeds[\"general\"]).generate_state(5),\n",
    "    )\n",
    ")\n",
    "seeds.update(\n",
    "    ARGS.kwargs(\n",
    "        [\n",
    "            \"A_train_seed\",\n",
    "            \"original_model_seed\",\n",
    "            \"D_train_seed\",\n",
    "            \"init_model_seed\",\n",
    "            \"random_walk_seed\",\n",
    "        ],\n",
    "        [\"A_train\", \"original_model\", \"D_train\", \"init_model\", \"random_walk\"],\n",
    "    )\n",
    ")"
   ]
  },
  {
   "cell_type": "markdown",
   "metadata": {},
   "source": [
    "## Alternatives initialisation"
   ]
  },
  {
   "cell_type": "code",
   "execution_count": 77,
   "metadata": {},
   "outputs": [],
   "source": [
    "A_train = random_alternatives(ARGS.N, ARGS.M, default_rng(seeds[\"A_train\"]))"
   ]
  },
  {
   "cell_type": "markdown",
   "metadata": {},
   "source": [
    "## Original model initialisation"
   ]
  },
  {
   "cell_type": "code",
   "execution_count": 78,
   "metadata": {},
   "outputs": [],
   "source": [
    "match ARGS.model:\n",
    "    case \"RMP\":\n",
    "        Mo = random_rmp(ARGS.K, ARGS.M, default_rng(seeds[\"original_model\"]))\n",
    "    case \"SRMP\":\n",
    "        Mo = random_srmp(ARGS.K, ARGS.M, default_rng(seeds[\"original_model\"]))"
   ]
  },
  {
   "cell_type": "markdown",
   "metadata": {},
   "source": [
    "## Binary comparisons initialisation"
   ]
  },
  {
   "cell_type": "code",
   "execution_count": 79,
   "metadata": {},
   "outputs": [],
   "source": [
    "D_train = random_comparisons(ARGS.N_bc, A_train, Mo, default_rng(seeds[\"D_train\"]))"
   ]
  },
  {
   "cell_type": "markdown",
   "metadata": {},
   "source": [
    "## Initial model initialisation"
   ]
  },
  {
   "cell_type": "code",
   "execution_count": 80,
   "metadata": {},
   "outputs": [],
   "source": [
    "match ARGS.model:\n",
    "    case \"RMP\":\n",
    "        Me = balanced_rmp(\n",
    "            ARGS.K, ARGS.M, default_rng(seeds[\"init_model\"]), midpoints(A_train.subtable(D_train.elements))\n",
    "        )\n",
    "    case \"SRMP\":\n",
    "        Me = balanced_srmp(\n",
    "            ARGS.K, ARGS.M, default_rng(seeds[\"init_model\"]), midpoints(A_train.subtable(D_train.elements))\n",
    "        )"
   ]
  },
  {
   "cell_type": "markdown",
   "metadata": {},
   "source": [
    "## Neighbors initialisation"
   ]
  },
  {
   "cell_type": "code",
   "execution_count": 81,
   "metadata": {},
   "outputs": [],
   "source": [
    "neighbors: list[Neighbor] = []\n",
    "prob: list[int] = []\n",
    "neighbors.append(NeighborProfiles(midpoints(A_train.subtable(D_train.elements))))\n",
    "prob.append(ARGS.K * ARGS.M)\n",
    "match ARGS.model:\n",
    "    case \"RMP\":\n",
    "        neighbors.append(NeighborCapacities())\n",
    "        prob.append(2 ** ARGS.M)\n",
    "    case \"SRMP\":\n",
    "        neighbors.append(NeighborWeights(1))\n",
    "        prob.append(ARGS.M)\n",
    "if ARGS.K >= 2:\n",
    "    neighbors.append(NeighborLexOrder())\n",
    "    prob.append(ARGS.K)"
   ]
  },
  {
   "cell_type": "markdown",
   "metadata": {},
   "source": [
    "# Random walk"
   ]
  },
  {
   "cell_type": "code",
   "execution_count": 82,
   "metadata": {},
   "outputs": [
    {
     "name": "stdout",
     "output_type": "stream",
     "text": [
      "0\n"
     ]
    },
    {
     "name": "stdout",
     "output_type": "stream",
     "text": [
      "100\n",
      "200\n",
      "300\n",
      "400\n",
      "500\n",
      "600\n",
      "700\n",
      "800\n",
      "900\n"
     ]
    }
   ],
   "source": [
    "random_walk = RandomWalk(A_train, D_train)(\n",
    "    ARGS.size, Me, RandomNeighbor(neighbors), default_rng(seeds[\"random_walk\"])\n",
    ")"
   ]
  },
  {
   "cell_type": "code",
   "execution_count": 83,
   "metadata": {},
   "outputs": [
    {
     "data": {
      "text/plain": [
       "[<matplotlib.lines.Line2D at 0x7f9092ec9870>]"
      ]
     },
     "execution_count": 83,
     "metadata": {},
     "output_type": "execute_result"
    },
    {
     "data": {
      "image/png": "[encoded data removed]",
      "text/plain": [
       "<Figure size 640x480 with 1 Axes>"
      ]
     },
     "metadata": {},
     "output_type": "display_data"
    }
   ],
   "source": [
    "x = range(len(random_walk))\n",
    "y = random_walk\n",
    "plt.plot(x, y)\n",
    "plt.plot(x, [mean(y)]*len(random_walk), \"--r\")"
   ]
  },
  {
   "cell_type": "code",
   "execution_count": 84,
   "metadata": {},
   "outputs": [
    {
     "data": {
      "text/plain": [
       "<matplotlib.lines.Line2D at 0x7f909607b460>"
      ]
     },
     "execution_count": 84,
     "metadata": {},
     "output_type": "execute_result"
    },
    {
     "data": {
      "image/png": "[encoded data removed]",
      "text/plain": [
       "<Figure size 640x480 with 1 Axes>"
      ]
     },
     "metadata": {},
     "output_type": "display_data"
    }
   ],
   "source": [
    "diff_energy = diff(random_walk)\n",
    "diff_energy = diff_energy[diff_energy < 0]\n",
    "diff_energy = -diff_energy\n",
    "plt.hist(diff_energy)\n",
    "plt.axvline(cast(float, mean(diff_energy)), color=\"r\", linestyle=\"--\")"
   ]
  },
  {
   "cell_type": "code",
   "execution_count": 85,
   "metadata": {},
   "outputs": [
    {
     "data": {
      "text/plain": [
       "0.029875311720698256"
      ]
     },
     "execution_count": 85,
     "metadata": {},
     "output_type": "execute_result"
    }
   ],
   "source": [
    "mean(diff_energy)"
   ]
  },
  {
   "cell_type": "code",
   "execution_count": 86,
   "metadata": {},
   "outputs": [
    {
     "name": "stdout",
     "output_type": "stream",
     "text": [
      "0.3\t0.024813942319423434\n",
      "0.001\t0.004324894341812932\n"
     ]
    }
   ],
   "source": [
    "print(f\"0.3\\t{temperature_initial(random_walk, 0.3)}\")\n",
    "print(f\"0.001\\t{temperature_initial(random_walk, 0.001)}\")"
   ]
  }
 ],
 "metadata": {
  "kernelspec": {
   "display_name": ".venv",
   "language": "python",
   "name": "python3"
  },
  "language_info": {
   "codemirror_mode": {
    "name": "ipython",
    "version": 3
   },
   "file_extension": ".py",
   "mimetype": "text/x-python",
   "name": "python",
   "nbconvert_exporter": "python",
   "pygments_lexer": "ipython3",
   "version": "3.12.3"
  }
 },
 "nbformat": 4,
 "nbformat_minor": 2
}
